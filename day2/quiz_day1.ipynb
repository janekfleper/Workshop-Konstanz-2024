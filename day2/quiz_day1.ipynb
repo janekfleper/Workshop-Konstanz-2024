{
 "cells": [
  {
   "cell_type": "markdown",
   "id": "243f0a5d-0315-438b-9cde-c80a1b07f2ab",
   "metadata": {
    "editable": false,
    "slideshow": {
     "slide_type": ""
    },
    "tags": []
   },
   "source": [
    "## Quiz - Day 1\n",
    "You are going to start with a password again and compute a few different properties of the password. If you are not able to solve a task, you can just skip it and continue with the next one. The tasks only require the `password` variable that is assigned at the top of the Notebook. If you overwrite the password by accident, just run the first `Code` cell again to reassign the password."
   ]
  },
  {
   "cell_type": "code",
   "execution_count": 1,
   "id": "cc6ba91e-4e2c-4b0a-b8db-dd909d857cf0",
   "metadata": {
    "editable": true,
    "slideshow": {
     "slide_type": ""
    },
    "tags": []
   },
   "outputs": [],
   "source": [
    "password = \"MySecurePassword2024\""
   ]
  },
  {
   "cell_type": "markdown",
   "id": "0213f8e7-5404-4c8c-acb9-6b1cdf40c219",
   "metadata": {
    "editable": false,
    "slideshow": {
     "slide_type": ""
    },
    "tags": []
   },
   "source": [
    "### Q1.1 Password slicing\n",
    "Slice the year at the end of the `password`, convert it to an `integer` and assign it to a new variable. Use an index range such that the slicing works for any password that ends with a four digit year!"
   ]
  },
  {
   "cell_type": "code",
   "execution_count": 2,
   "id": "ce29fbdd-dcb2-454a-adcf-068455297c67",
   "metadata": {
    "editable": true,
    "slideshow": {
     "slide_type": ""
    },
    "tags": []
   },
   "outputs": [
    {
     "data": {
      "text/plain": [
       "2024"
      ]
     },
     "execution_count": 2,
     "metadata": {},
     "output_type": "execute_result"
    }
   ],
   "source": [
    "year = int(password[-4:])\n",
    "year"
   ]
  },
  {
   "cell_type": "markdown",
   "id": "5850a9f2-20e4-4f87-b841-16a916d24a87",
   "metadata": {
    "editable": false,
    "slideshow": {
     "slide_type": ""
    },
    "tags": []
   },
   "source": [
    "### Q1.2 Upper and lower case characters\n",
    "Loop over the characters in the `password` and sort them into lower case letters, upper case letters and other characters. You can use the string methods `s.islower()` and `s.isupper()` to check the case of a letter `s`. Instead of the characters, the three lists should contain the _indices_ of the characters!"
   ]
  },
  {
   "cell_type": "code",
   "execution_count": 3,
   "id": "057774c1-228d-4473-9f59-2451a1eb2187",
   "metadata": {
    "editable": true,
    "slideshow": {
     "slide_type": ""
    },
    "tags": []
   },
   "outputs": [
    {
     "data": {
      "text/plain": [
       "([1, 3, 4, 5, 6, 7, 9, 10, 11, 12, 13, 14, 15], [0, 2, 8], [16, 17, 18, 19])"
      ]
     },
     "execution_count": 3,
     "metadata": {},
     "output_type": "execute_result"
    }
   ],
   "source": [
    "lower = []\n",
    "upper = []\n",
    "other = []\n",
    "\n",
    "for i, char in enumerate(password):\n",
    "    if char.islower():\n",
    "        lower.append(i)\n",
    "    elif char.isupper():\n",
    "        upper.append(i)\n",
    "    else:\n",
    "        other.append(i)\n",
    "\n",
    "lower, upper, other"
   ]
  },
  {
   "cell_type": "markdown",
   "id": "f15c7fdc-7e85-4a3a-930c-1901c212468e",
   "metadata": {
    "editable": false,
    "slideshow": {
     "slide_type": ""
    },
    "tags": []
   },
   "source": [
    "### Q1.3 Digit product\n",
    "The digit product is the product of all numeric characters in a string. As an example, the digit product of the string `\"hello01234\"` is $1 \\times 2 \\times 3 \\times 4 = 24$. The character `\"0\"` has to be excluded from the calculation since the product would always be $0$.\n",
    "\n",
    "Iterate over the characters in the `password` and compute the product of the numeric characters excluding `\"0\"`."
   ]
  },
  {
   "cell_type": "code",
   "execution_count": 4,
   "id": "e06014fa-c23f-4192-9cd0-011616852314",
   "metadata": {
    "editable": true,
    "slideshow": {
     "slide_type": ""
    },
    "tags": []
   },
   "outputs": [
    {
     "data": {
      "text/plain": [
       "16"
      ]
     },
     "execution_count": 4,
     "metadata": {},
     "output_type": "execute_result"
    }
   ],
   "source": [
    "product = 1\n",
    "for char in password:\n",
    "    if char.isnumeric() and char != \"0\":\n",
    "        product *= int(char)\n",
    "\n",
    "product"
   ]
  },
  {
   "cell_type": "markdown",
   "id": "2e6e14d2-07f1-47f2-82db-8d646a6b14e5",
   "metadata": {
    "editable": false,
    "slideshow": {
     "slide_type": ""
    },
    "tags": []
   },
   "source": [
    "### Q1.4 Unicode sum\n",
    "Every character also has an associated integer value that is used internally to represent the character. In Python, you can get this so-called [Unicode](https://en.wikipedia.org/wiki/Unicode) value with the function `ord(c)` where `c` is any string with length 1. As an example, `ord(\"A\")` will return the integer value $65$.\n",
    "\n",
    "Iterate over the characters in the `password`, compute the sum of the Unicode values, assign the result to a variable and output/print the variable."
   ]
  },
  {
   "cell_type": "code",
   "execution_count": 5,
   "id": "29b33665-64b7-42ce-8d00-0c824933ed5b",
   "metadata": {
    "editable": true,
    "slideshow": {
     "slide_type": ""
    },
    "tags": []
   },
   "outputs": [
    {
     "data": {
      "text/plain": [
       "1864"
      ]
     },
     "execution_count": 5,
     "metadata": {},
     "output_type": "execute_result"
    }
   ],
   "source": [
    "unicode_sum = 0\n",
    "for char in password:\n",
    "    unicode_sum += ord(char)\n",
    "\n",
    "unicode_sum"
   ]
  },
  {
   "cell_type": "code",
   "execution_count": 6,
   "id": "edac912b-c7a4-4cf6-aa44-68864af3c97f",
   "metadata": {
    "editable": true,
    "slideshow": {
     "slide_type": ""
    },
    "tags": []
   },
   "outputs": [
    {
     "data": {
      "text/plain": [
       "1864"
      ]
     },
     "execution_count": 6,
     "metadata": {},
     "output_type": "execute_result"
    }
   ],
   "source": [
    "unicode_sum = sum([ord(char) for char in password])\n",
    "unicode_sum"
   ]
  },
  {
   "cell_type": "markdown",
   "id": "9374f8f0-5337-47e9-93ef-cf69b0c33d7f",
   "metadata": {
    "editable": false,
    "slideshow": {
     "slide_type": ""
    },
    "tags": []
   },
   "source": [
    "### Q1.5 Characters in a dictionary\n",
    "Dictionaries are useful to group data together. Instead of using bare lists to store the different character categories, you can use a single dictionary to store the lists.\n",
    "\n",
    "Create a dictionary with the keys `\"alphabetic\"` and `\"numeric\"` and empty lists as the values. Iterate over the characters in the `password` and store the alphabetic characters and the numeric characters in the respective lists."
   ]
  },
  {
   "cell_type": "code",
   "execution_count": 7,
   "id": "202a2f73-dfae-4372-9f04-f96b8087be5d",
   "metadata": {
    "editable": true,
    "slideshow": {
     "slide_type": ""
    },
    "tags": []
   },
   "outputs": [
    {
     "data": {
      "text/plain": [
       "{'alphabetic': ['M',\n",
       "  'y',\n",
       "  'S',\n",
       "  'e',\n",
       "  'c',\n",
       "  'u',\n",
       "  'r',\n",
       "  'e',\n",
       "  'P',\n",
       "  'a',\n",
       "  's',\n",
       "  's',\n",
       "  'w',\n",
       "  'o',\n",
       "  'r',\n",
       "  'd'],\n",
       " 'numeric': ['2', '0', '2', '4']}"
      ]
     },
     "execution_count": 7,
     "metadata": {},
     "output_type": "execute_result"
    }
   ],
   "source": [
    "characters = dict(alphabetic=[], numeric=[])\n",
    "\n",
    "for char in password:\n",
    "    if char.isalpha():\n",
    "        characters[\"alphabetic\"].append(char)\n",
    "    elif char.isnumeric():\n",
    "        characters[\"numeric\"].append(char)\n",
    "\n",
    "characters"
   ]
  },
  {
   "cell_type": "markdown",
   "id": "46ae4b2f-b0b6-440f-8c25-26563fe76547",
   "metadata": {
    "editable": false,
    "slideshow": {
     "slide_type": ""
    },
    "tags": []
   },
   "source": [
    "### Q1.6 Password encryption\n",
    "The so-called shift cypher encrypts a password by _shifting_ all characters by the fixed value `n = 5`. As an example, the letters `\"a\"` and `\"B\"` are turned into the letters `\"f\"` and `\"G\"` respectively. Use the function `ord(c)` to get the Unicode value of a character `c` as an integer, and use the function `chr(i)` to get the character of a Unicode value `i`. Iterate over the `password` and print the original character and the encrypted character in each step of the loop."
   ]
  },
  {
   "cell_type": "code",
   "execution_count": 8,
   "id": "e9855d40-696f-4ca6-88d6-25d9f5c5e4a7",
   "metadata": {
    "editable": true,
    "slideshow": {
     "slide_type": ""
    },
    "tags": []
   },
   "outputs": [],
   "source": [
    "n = 5"
   ]
  },
  {
   "cell_type": "code",
   "execution_count": 10,
   "id": "9457db2c-f437-4ef4-8401-800362b5ccb0",
   "metadata": {
    "editable": true,
    "slideshow": {
     "slide_type": ""
    },
    "tags": []
   },
   "outputs": [
    {
     "name": "stdout",
     "output_type": "stream",
     "text": [
      "M  ->  R\n",
      "y  ->  ~\n",
      "S  ->  X\n",
      "e  ->  j\n",
      "c  ->  h\n",
      "u  ->  z\n",
      "r  ->  w\n",
      "e  ->  j\n",
      "P  ->  U\n",
      "a  ->  f\n",
      "s  ->  x\n",
      "s  ->  x\n",
      "w  ->  |\n",
      "o  ->  t\n",
      "r  ->  w\n",
      "d  ->  i\n",
      "2  ->  7\n",
      "0  ->  5\n",
      "2  ->  7\n",
      "4  ->  9\n"
     ]
    }
   ],
   "source": [
    "for char in password:\n",
    "    print(char, \" -> \", chr(ord(char) + n))"
   ]
  },
  {
   "cell_type": "code",
   "execution_count": null,
   "id": "6dadd802-3e7b-4a0a-9ebb-e37c96665e90",
   "metadata": {
    "editable": true,
    "slideshow": {
     "slide_type": ""
    },
    "tags": []
   },
   "outputs": [],
   "source": []
  }
 ],
 "metadata": {
  "kernelspec": {
   "display_name": "Python 3 (ipykernel)",
   "language": "python",
   "name": "python3"
  },
  "language_info": {
   "codemirror_mode": {
    "name": "ipython",
    "version": 3
   },
   "file_extension": ".py",
   "mimetype": "text/x-python",
   "name": "python",
   "nbconvert_exporter": "python",
   "pygments_lexer": "ipython3",
   "version": "3.12.7"
  }
 },
 "nbformat": 4,
 "nbformat_minor": 5
}
